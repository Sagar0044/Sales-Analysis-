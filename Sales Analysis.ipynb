{
 "cells": [
  {
   "cell_type": "code",
   "execution_count": 47,
   "metadata": {},
   "outputs": [],
   "source": [
    "#### importing necessary libraries"
   ]
  },
  {
   "cell_type": "code",
   "execution_count": 262,
   "metadata": {},
   "outputs": [],
   "source": [
    "import pandas as pd\n",
    "import os\n",
    "\n",
    "\n"
   ]
  },
  {
   "cell_type": "code",
   "execution_count": 46,
   "metadata": {},
   "outputs": [],
   "source": [
    "#### Merging all csv files into a single one"
   ]
  },
  {
   "cell_type": "code",
   "execution_count": 261,
   "metadata": {},
   "outputs": [],
   "source": [
    "#df = pd.read_csv(\"./Sales_data/01 Jan 2018 Travel Plaza.csv\")\n",
    "#df.head()\n",
    "#path = \"./Sales_data\"\n",
    "#open = os.listdir(path)\n",
    "#for file in open:\n",
    " #   print(file)\n",
    "    \n",
    "files = [file for file in os.listdir(\"./Sales_data\")]\n",
    "path = \"./SALES_data\"\n",
    "#for file in files:\n",
    "#    print (file)\n",
    "\n",
    "all_months = pd.DataFrame()\n",
    "for file in files:\n",
    "    df = pd.read_csv(\"./Sales_data/\"+file)\n",
    "    all_months = pd.concat([all_months,df])\n",
    "\n",
    "all_months.to_csv(\"all_data.csv\", index=False)"
   ]
  },
  {
   "cell_type": "code",
   "execution_count": 258,
   "metadata": {},
   "outputs": [
    {
     "name": "stdout",
     "output_type": "stream",
     "text": [
      "C:\\Users\\ThinkPad1\\Desktop\\Python folder\n"
     ]
    }
   ],
   "source": [
    "print (os.getcwd())"
   ]
  },
  {
   "cell_type": "code",
   "execution_count": 272,
   "metadata": {},
   "outputs": [
    {
     "name": "stdout",
     "output_type": "stream",
     "text": [
      "\n"
     ]
    }
   ],
   "source": [
    "try:\n",
    "    fd = \"./names/names.txt\"\n",
    "    file = open (fd, 'r')\n",
    "    text = file.read()\n",
    "    print (text)\n",
    "except TypeError:\n",
    "    print('Problem loading file: '+ file)\n",
    "    print (os.getcwd())"
   ]
  },
  {
   "cell_type": "markdown",
   "metadata": {},
   "source": [
    "# Augment data with additional column"
   ]
  },
  {
   "cell_type": "markdown",
   "metadata": {},
   "source": [
    "# Read in uploaded dataframe"
   ]
  },
  {
   "cell_type": "code",
   "execution_count": 264,
   "metadata": {},
   "outputs": [
    {
     "data": {
      "text/html": [
       "<div>\n",
       "<style scoped>\n",
       "    .dataframe tbody tr th:only-of-type {\n",
       "        vertical-align: middle;\n",
       "    }\n",
       "\n",
       "    .dataframe tbody tr th {\n",
       "        vertical-align: top;\n",
       "    }\n",
       "\n",
       "    .dataframe thead th {\n",
       "        text-align: right;\n",
       "    }\n",
       "</style>\n",
       "<table border=\"1\" class=\"dataframe\">\n",
       "  <thead>\n",
       "    <tr style=\"text-align: right;\">\n",
       "      <th></th>\n",
       "      <th>&lt;Date&gt;</th>\n",
       "      <th>&lt;Description&gt;</th>\n",
       "      <th>&lt;Deposit Amount&gt;</th>\n",
       "    </tr>\n",
       "  </thead>\n",
       "  <tbody>\n",
       "    <tr>\n",
       "      <th>0</th>\n",
       "      <td>2/1/2018</td>\n",
       "      <td>MERCHANT BANKCD/DEPOSIT 497210508881</td>\n",
       "      <td>0.93</td>\n",
       "    </tr>\n",
       "    <tr>\n",
       "      <th>1</th>\n",
       "      <td>5/2/2018</td>\n",
       "      <td>PM USA INC/EDI PAYMNT</td>\n",
       "      <td>1.00</td>\n",
       "    </tr>\n",
       "    <tr>\n",
       "      <th>2</th>\n",
       "      <td>3/29/2018</td>\n",
       "      <td>PM USA INC/EDI PAYMNT</td>\n",
       "      <td>1.50</td>\n",
       "    </tr>\n",
       "    <tr>\n",
       "      <th>3</th>\n",
       "      <td>3/12/2018</td>\n",
       "      <td>PM USA INC/EDI PAYMNT</td>\n",
       "      <td>1.50</td>\n",
       "    </tr>\n",
       "    <tr>\n",
       "      <th>4</th>\n",
       "      <td>7/31/2018</td>\n",
       "      <td>PM USA INC/EDI PAYMNT</td>\n",
       "      <td>1.50</td>\n",
       "    </tr>\n",
       "  </tbody>\n",
       "</table>\n",
       "</div>"
      ],
      "text/plain": [
       "      <Date>                         <Description>  <Deposit Amount>\n",
       "0   2/1/2018  MERCHANT BANKCD/DEPOSIT 497210508881              0.93\n",
       "1   5/2/2018                 PM USA INC/EDI PAYMNT              1.00\n",
       "2  3/29/2018                 PM USA INC/EDI PAYMNT              1.50\n",
       "3  3/12/2018                 PM USA INC/EDI PAYMNT              1.50\n",
       "4  7/31/2018                 PM USA INC/EDI PAYMNT              1.50"
      ]
     },
     "execution_count": 264,
     "metadata": {},
     "output_type": "execute_result"
    }
   ],
   "source": [
    "all_data = pd.read_csv(\"all_data.csv\")\n",
    "all_data.head()"
   ]
  },
  {
   "cell_type": "markdown",
   "metadata": {},
   "source": [
    "### Clean up data"
   ]
  },
  {
   "cell_type": "markdown",
   "metadata": {},
   "source": [
    "### drop rows of NaN"
   ]
  },
  {
   "cell_type": "code",
   "execution_count": 265,
   "metadata": {},
   "outputs": [
    {
     "data": {
      "text/html": [
       "<div>\n",
       "<style scoped>\n",
       "    .dataframe tbody tr th:only-of-type {\n",
       "        vertical-align: middle;\n",
       "    }\n",
       "\n",
       "    .dataframe tbody tr th {\n",
       "        vertical-align: top;\n",
       "    }\n",
       "\n",
       "    .dataframe thead th {\n",
       "        text-align: right;\n",
       "    }\n",
       "</style>\n",
       "<table border=\"1\" class=\"dataframe\">\n",
       "  <thead>\n",
       "    <tr style=\"text-align: right;\">\n",
       "      <th></th>\n",
       "      <th>&lt;Date&gt;</th>\n",
       "      <th>&lt;Description&gt;</th>\n",
       "      <th>&lt;Deposit Amount&gt;</th>\n",
       "    </tr>\n",
       "  </thead>\n",
       "  <tbody>\n",
       "    <tr>\n",
       "      <th>0</th>\n",
       "      <td>2/1/2018</td>\n",
       "      <td>MERCHANT BANKCD/DEPOSIT 497210508881</td>\n",
       "      <td>0.93</td>\n",
       "    </tr>\n",
       "    <tr>\n",
       "      <th>1</th>\n",
       "      <td>5/2/2018</td>\n",
       "      <td>PM USA INC/EDI PAYMNT</td>\n",
       "      <td>1.00</td>\n",
       "    </tr>\n",
       "    <tr>\n",
       "      <th>2</th>\n",
       "      <td>3/29/2018</td>\n",
       "      <td>PM USA INC/EDI PAYMNT</td>\n",
       "      <td>1.50</td>\n",
       "    </tr>\n",
       "    <tr>\n",
       "      <th>3</th>\n",
       "      <td>3/12/2018</td>\n",
       "      <td>PM USA INC/EDI PAYMNT</td>\n",
       "      <td>1.50</td>\n",
       "    </tr>\n",
       "    <tr>\n",
       "      <th>4</th>\n",
       "      <td>7/31/2018</td>\n",
       "      <td>PM USA INC/EDI PAYMNT</td>\n",
       "      <td>1.50</td>\n",
       "    </tr>\n",
       "  </tbody>\n",
       "</table>\n",
       "</div>"
      ],
      "text/plain": [
       "      <Date>                         <Description>  <Deposit Amount>\n",
       "0   2/1/2018  MERCHANT BANKCD/DEPOSIT 497210508881              0.93\n",
       "1   5/2/2018                 PM USA INC/EDI PAYMNT              1.00\n",
       "2  3/29/2018                 PM USA INC/EDI PAYMNT              1.50\n",
       "3  3/12/2018                 PM USA INC/EDI PAYMNT              1.50\n",
       "4  7/31/2018                 PM USA INC/EDI PAYMNT              1.50"
      ]
     },
     "execution_count": 265,
     "metadata": {},
     "output_type": "execute_result"
    }
   ],
   "source": [
    "nan_df = all_data[all_data.isna().any(axis=1)] #findin all NaN data in dataframe\n",
    "nan_df.head() #printing all the NaN datas from dataframe\n",
    "\n",
    "all_data = all_data.dropna(how= 'all')\n",
    "all_data.head()\n"
   ]
  },
  {
   "cell_type": "markdown",
   "metadata": {},
   "source": [
    "### Find value errors (ex: here, 1/3/2018) and delete it"
   ]
  },
  {
   "cell_type": "code",
   "execution_count": 266,
   "metadata": {},
   "outputs": [
    {
     "data": {
      "text/html": [
       "<div>\n",
       "<style scoped>\n",
       "    .dataframe tbody tr th:only-of-type {\n",
       "        vertical-align: middle;\n",
       "    }\n",
       "\n",
       "    .dataframe tbody tr th {\n",
       "        vertical-align: top;\n",
       "    }\n",
       "\n",
       "    .dataframe thead th {\n",
       "        text-align: right;\n",
       "    }\n",
       "</style>\n",
       "<table border=\"1\" class=\"dataframe\">\n",
       "  <thead>\n",
       "    <tr style=\"text-align: right;\">\n",
       "      <th></th>\n",
       "      <th>&lt;Date&gt;</th>\n",
       "      <th>&lt;Description&gt;</th>\n",
       "      <th>&lt;Deposit Amount&gt;</th>\n",
       "    </tr>\n",
       "  </thead>\n",
       "  <tbody>\n",
       "    <tr>\n",
       "      <th>0</th>\n",
       "      <td>2/1/2018</td>\n",
       "      <td>MERCHANT BANKCD/DEPOSIT 497210508881</td>\n",
       "      <td>0.93</td>\n",
       "    </tr>\n",
       "    <tr>\n",
       "      <th>1</th>\n",
       "      <td>5/2/2018</td>\n",
       "      <td>PM USA INC/EDI PAYMNT</td>\n",
       "      <td>1.00</td>\n",
       "    </tr>\n",
       "    <tr>\n",
       "      <th>2</th>\n",
       "      <td>3/29/2018</td>\n",
       "      <td>PM USA INC/EDI PAYMNT</td>\n",
       "      <td>1.50</td>\n",
       "    </tr>\n",
       "    <tr>\n",
       "      <th>3</th>\n",
       "      <td>3/12/2018</td>\n",
       "      <td>PM USA INC/EDI PAYMNT</td>\n",
       "      <td>1.50</td>\n",
       "    </tr>\n",
       "    <tr>\n",
       "      <th>4</th>\n",
       "      <td>7/31/2018</td>\n",
       "      <td>PM USA INC/EDI PAYMNT</td>\n",
       "      <td>1.50</td>\n",
       "    </tr>\n",
       "  </tbody>\n",
       "</table>\n",
       "</div>"
      ],
      "text/plain": [
       "      <Date>                         <Description>  <Deposit Amount>\n",
       "0   2/1/2018  MERCHANT BANKCD/DEPOSIT 497210508881              0.93\n",
       "1   5/2/2018                 PM USA INC/EDI PAYMNT              1.00\n",
       "2  3/29/2018                 PM USA INC/EDI PAYMNT              1.50\n",
       "3  3/12/2018                 PM USA INC/EDI PAYMNT              1.50\n",
       "4  7/31/2018                 PM USA INC/EDI PAYMNT              1.50"
      ]
     },
     "execution_count": 266,
     "metadata": {},
     "output_type": "execute_result"
    }
   ],
   "source": [
    "all_data = all_data[all_data['<Date>'].str[0:1] != 'Or']\n",
    "all_data.head()"
   ]
  },
  {
   "cell_type": "code",
   "execution_count": null,
   "metadata": {},
   "outputs": [],
   "source": []
  },
  {
   "cell_type": "markdown",
   "metadata": {},
   "source": [
    "# Augment data with additional column"
   ]
  },
  {
   "cell_type": "markdown",
   "metadata": {},
   "source": [
    "### Task 2: Adding month column"
   ]
  },
  {
   "cell_type": "code",
   "execution_count": 267,
   "metadata": {},
   "outputs": [
    {
     "data": {
      "text/html": [
       "<div>\n",
       "<style scoped>\n",
       "    .dataframe tbody tr th:only-of-type {\n",
       "        vertical-align: middle;\n",
       "    }\n",
       "\n",
       "    .dataframe tbody tr th {\n",
       "        vertical-align: top;\n",
       "    }\n",
       "\n",
       "    .dataframe thead th {\n",
       "        text-align: right;\n",
       "    }\n",
       "</style>\n",
       "<table border=\"1\" class=\"dataframe\">\n",
       "  <thead>\n",
       "    <tr style=\"text-align: right;\">\n",
       "      <th></th>\n",
       "      <th>&lt;Date&gt;</th>\n",
       "      <th>&lt;Description&gt;</th>\n",
       "      <th>&lt;Deposit Amount&gt;</th>\n",
       "      <th>month</th>\n",
       "    </tr>\n",
       "  </thead>\n",
       "  <tbody>\n",
       "    <tr>\n",
       "      <th>0</th>\n",
       "      <td>2/1/2018</td>\n",
       "      <td>MERCHANT BANKCD/DEPOSIT 497210508881</td>\n",
       "      <td>0.93</td>\n",
       "      <td>2</td>\n",
       "    </tr>\n",
       "    <tr>\n",
       "      <th>1</th>\n",
       "      <td>5/2/2018</td>\n",
       "      <td>PM USA INC/EDI PAYMNT</td>\n",
       "      <td>1.00</td>\n",
       "      <td>5</td>\n",
       "    </tr>\n",
       "    <tr>\n",
       "      <th>2</th>\n",
       "      <td>3/29/2018</td>\n",
       "      <td>PM USA INC/EDI PAYMNT</td>\n",
       "      <td>1.50</td>\n",
       "      <td>3</td>\n",
       "    </tr>\n",
       "    <tr>\n",
       "      <th>3</th>\n",
       "      <td>3/12/2018</td>\n",
       "      <td>PM USA INC/EDI PAYMNT</td>\n",
       "      <td>1.50</td>\n",
       "      <td>3</td>\n",
       "    </tr>\n",
       "    <tr>\n",
       "      <th>4</th>\n",
       "      <td>7/31/2018</td>\n",
       "      <td>PM USA INC/EDI PAYMNT</td>\n",
       "      <td>1.50</td>\n",
       "      <td>7</td>\n",
       "    </tr>\n",
       "    <tr>\n",
       "      <th>5</th>\n",
       "      <td>4/2/2018</td>\n",
       "      <td>MERCHANT BANKCD/DEPOSIT 497210508881</td>\n",
       "      <td>1.62</td>\n",
       "      <td>4</td>\n",
       "    </tr>\n",
       "    <tr>\n",
       "      <th>6</th>\n",
       "      <td>2/1/2018</td>\n",
       "      <td>USSMOKLESS COMP1/EDI PAYMNT</td>\n",
       "      <td>1.75</td>\n",
       "      <td>2</td>\n",
       "    </tr>\n",
       "    <tr>\n",
       "      <th>7</th>\n",
       "      <td>5/4/2018</td>\n",
       "      <td>USSMOKLESS COMP1/EDI PAYMNT</td>\n",
       "      <td>1.75</td>\n",
       "      <td>5</td>\n",
       "    </tr>\n",
       "    <tr>\n",
       "      <th>8</th>\n",
       "      <td>5/8/2018</td>\n",
       "      <td>U-HAUL INT'L/DLR PYMNTS 54396 SUPER S</td>\n",
       "      <td>1.86</td>\n",
       "      <td>5</td>\n",
       "    </tr>\n",
       "    <tr>\n",
       "      <th>9</th>\n",
       "      <td>3/2/2018</td>\n",
       "      <td>MERCHANT BANKCD/DEPOSIT 497210508881</td>\n",
       "      <td>1.91</td>\n",
       "      <td>3</td>\n",
       "    </tr>\n",
       "    <tr>\n",
       "      <th>10</th>\n",
       "      <td>9/26/2018</td>\n",
       "      <td>USSMOKLESS COMP1/EDI PAYMNT</td>\n",
       "      <td>2.50</td>\n",
       "      <td>9</td>\n",
       "    </tr>\n",
       "    <tr>\n",
       "      <th>11</th>\n",
       "      <td>10/30/2018</td>\n",
       "      <td>REF*TN*63502004076565T*PYMT TYPE1111Pmt</td>\n",
       "      <td>2.50</td>\n",
       "      <td>1</td>\n",
       "    </tr>\n",
       "    <tr>\n",
       "      <th>12</th>\n",
       "      <td>3/29/2018</td>\n",
       "      <td>MERCHANT BANKCD/DEPOSIT 497210508881</td>\n",
       "      <td>2.70</td>\n",
       "      <td>3</td>\n",
       "    </tr>\n",
       "    <tr>\n",
       "      <th>13</th>\n",
       "      <td>1/3/2018</td>\n",
       "      <td>PM USA INC/EDI PAYMNT</td>\n",
       "      <td>3.00</td>\n",
       "      <td>1</td>\n",
       "    </tr>\n",
       "    <tr>\n",
       "      <th>14</th>\n",
       "      <td>10/30/2018</td>\n",
       "      <td>REF*TN*00042012995253T*PYMT TYPE1111Pmt</td>\n",
       "      <td>3.00</td>\n",
       "      <td>1</td>\n",
       "    </tr>\n",
       "    <tr>\n",
       "      <th>15</th>\n",
       "      <td>3/12/2018</td>\n",
       "      <td>USSMOKLESS COMP1/EDI PAYMNT</td>\n",
       "      <td>3.50</td>\n",
       "      <td>3</td>\n",
       "    </tr>\n",
       "    <tr>\n",
       "      <th>16</th>\n",
       "      <td>10/5/2018</td>\n",
       "      <td>MERCHANT BANKCD/DEPOSIT 497210508881</td>\n",
       "      <td>4.24</td>\n",
       "      <td>1</td>\n",
       "    </tr>\n",
       "    <tr>\n",
       "      <th>17</th>\n",
       "      <td>10/4/2018</td>\n",
       "      <td>USSMOKLESS COMP1/EDI PAYMNT</td>\n",
       "      <td>4.50</td>\n",
       "      <td>1</td>\n",
       "    </tr>\n",
       "    <tr>\n",
       "      <th>18</th>\n",
       "      <td>6/1/2018</td>\n",
       "      <td>USSMOKLESS COMP1/EDI PAYMNT</td>\n",
       "      <td>5.05</td>\n",
       "      <td>6</td>\n",
       "    </tr>\n",
       "    <tr>\n",
       "      <th>19</th>\n",
       "      <td>2/20/2018</td>\n",
       "      <td>MERCHANT BANKCD/DEPOSIT 497210508881</td>\n",
       "      <td>5.93</td>\n",
       "      <td>2</td>\n",
       "    </tr>\n",
       "  </tbody>\n",
       "</table>\n",
       "</div>"
      ],
      "text/plain": [
       "        <Date>                            <Description>  <Deposit Amount>  \\\n",
       "0     2/1/2018     MERCHANT BANKCD/DEPOSIT 497210508881              0.93   \n",
       "1     5/2/2018                    PM USA INC/EDI PAYMNT              1.00   \n",
       "2    3/29/2018                    PM USA INC/EDI PAYMNT              1.50   \n",
       "3    3/12/2018                    PM USA INC/EDI PAYMNT              1.50   \n",
       "4    7/31/2018                    PM USA INC/EDI PAYMNT              1.50   \n",
       "5     4/2/2018     MERCHANT BANKCD/DEPOSIT 497210508881              1.62   \n",
       "6     2/1/2018              USSMOKLESS COMP1/EDI PAYMNT              1.75   \n",
       "7     5/4/2018              USSMOKLESS COMP1/EDI PAYMNT              1.75   \n",
       "8     5/8/2018    U-HAUL INT'L/DLR PYMNTS 54396 SUPER S              1.86   \n",
       "9     3/2/2018     MERCHANT BANKCD/DEPOSIT 497210508881              1.91   \n",
       "10   9/26/2018              USSMOKLESS COMP1/EDI PAYMNT              2.50   \n",
       "11  10/30/2018  REF*TN*63502004076565T*PYMT TYPE1111Pmt              2.50   \n",
       "12   3/29/2018     MERCHANT BANKCD/DEPOSIT 497210508881              2.70   \n",
       "13    1/3/2018                    PM USA INC/EDI PAYMNT              3.00   \n",
       "14  10/30/2018  REF*TN*00042012995253T*PYMT TYPE1111Pmt              3.00   \n",
       "15   3/12/2018              USSMOKLESS COMP1/EDI PAYMNT              3.50   \n",
       "16   10/5/2018     MERCHANT BANKCD/DEPOSIT 497210508881              4.24   \n",
       "17   10/4/2018              USSMOKLESS COMP1/EDI PAYMNT              4.50   \n",
       "18    6/1/2018              USSMOKLESS COMP1/EDI PAYMNT              5.05   \n",
       "19   2/20/2018     MERCHANT BANKCD/DEPOSIT 497210508881              5.93   \n",
       "\n",
       "    month  \n",
       "0       2  \n",
       "1       5  \n",
       "2       3  \n",
       "3       3  \n",
       "4       7  \n",
       "5       4  \n",
       "6       2  \n",
       "7       5  \n",
       "8       5  \n",
       "9       3  \n",
       "10      9  \n",
       "11      1  \n",
       "12      3  \n",
       "13      1  \n",
       "14      1  \n",
       "15      3  \n",
       "16      1  \n",
       "17      1  \n",
       "18      6  \n",
       "19      2  "
      ]
     },
     "execution_count": 267,
     "metadata": {},
     "output_type": "execute_result"
    }
   ],
   "source": [
    "all_data ['month'] = all_data['<Date>'].str[0:1]  #extracting the first character from <Date> header into new month header\n",
    "all_data['month'] = all_data['month'].astype('int32') #converting the type of 'month' from string to integer\n",
    "all_data.head(20)"
   ]
  },
  {
   "cell_type": "code",
   "execution_count": 268,
   "metadata": {},
   "outputs": [
    {
     "data": {
      "text/html": [
       "<div>\n",
       "<style scoped>\n",
       "    .dataframe tbody tr th:only-of-type {\n",
       "        vertical-align: middle;\n",
       "    }\n",
       "\n",
       "    .dataframe tbody tr th {\n",
       "        vertical-align: top;\n",
       "    }\n",
       "\n",
       "    .dataframe thead th {\n",
       "        text-align: right;\n",
       "    }\n",
       "</style>\n",
       "<table border=\"1\" class=\"dataframe\">\n",
       "  <thead>\n",
       "    <tr style=\"text-align: right;\">\n",
       "      <th></th>\n",
       "      <th>&lt;Date&gt;</th>\n",
       "      <th>&lt;Description&gt;</th>\n",
       "      <th>&lt;Deposit Amount&gt;</th>\n",
       "      <th>month</th>\n",
       "    </tr>\n",
       "  </thead>\n",
       "  <tbody>\n",
       "    <tr>\n",
       "      <th>0</th>\n",
       "      <td>2/1/2018</td>\n",
       "      <td>MERCHANT BANKCD/DEPOSIT 497210508881</td>\n",
       "      <td>0.93</td>\n",
       "      <td>2</td>\n",
       "    </tr>\n",
       "    <tr>\n",
       "      <th>1</th>\n",
       "      <td>5/2/2018</td>\n",
       "      <td>PM USA INC/EDI PAYMNT</td>\n",
       "      <td>1.00</td>\n",
       "      <td>5</td>\n",
       "    </tr>\n",
       "    <tr>\n",
       "      <th>2</th>\n",
       "      <td>3/29/2018</td>\n",
       "      <td>PM USA INC/EDI PAYMNT</td>\n",
       "      <td>1.50</td>\n",
       "      <td>3</td>\n",
       "    </tr>\n",
       "    <tr>\n",
       "      <th>3</th>\n",
       "      <td>3/12/2018</td>\n",
       "      <td>PM USA INC/EDI PAYMNT</td>\n",
       "      <td>1.50</td>\n",
       "      <td>3</td>\n",
       "    </tr>\n",
       "    <tr>\n",
       "      <th>4</th>\n",
       "      <td>7/31/2018</td>\n",
       "      <td>PM USA INC/EDI PAYMNT</td>\n",
       "      <td>1.50</td>\n",
       "      <td>7</td>\n",
       "    </tr>\n",
       "  </tbody>\n",
       "</table>\n",
       "</div>"
      ],
      "text/plain": [
       "      <Date>                         <Description>  <Deposit Amount>  month\n",
       "0   2/1/2018  MERCHANT BANKCD/DEPOSIT 497210508881              0.93      2\n",
       "1   5/2/2018                 PM USA INC/EDI PAYMNT              1.00      5\n",
       "2  3/29/2018                 PM USA INC/EDI PAYMNT              1.50      3\n",
       "3  3/12/2018                 PM USA INC/EDI PAYMNT              1.50      3\n",
       "4  7/31/2018                 PM USA INC/EDI PAYMNT              1.50      7"
      ]
     },
     "execution_count": 268,
     "metadata": {},
     "output_type": "execute_result"
    }
   ],
   "source": [
    "all_data['month'] = pd.to_numeric(all_data['month'])\n",
    "all_data['month'] = all_data['month']\n",
    "#all_data ['slicing'] = all_data.loc[:,['<Date>','<Description>']]\n",
    "#name = all_data.loc[:, ['<Date>', '<Description>']]\n",
    "#print (name)\n",
    "all_data.head()\n"
   ]
  },
  {
   "cell_type": "markdown",
   "metadata": {},
   "source": [
    "### What was the best month for deposit"
   ]
  },
  {
   "cell_type": "code",
   "execution_count": 269,
   "metadata": {},
   "outputs": [
    {
     "data": {
      "text/html": [
       "<div>\n",
       "<style scoped>\n",
       "    .dataframe tbody tr th:only-of-type {\n",
       "        vertical-align: middle;\n",
       "    }\n",
       "\n",
       "    .dataframe tbody tr th {\n",
       "        vertical-align: top;\n",
       "    }\n",
       "\n",
       "    .dataframe thead th {\n",
       "        text-align: right;\n",
       "    }\n",
       "</style>\n",
       "<table border=\"1\" class=\"dataframe\">\n",
       "  <thead>\n",
       "    <tr style=\"text-align: right;\">\n",
       "      <th></th>\n",
       "      <th>&lt;Deposit Amount&gt;</th>\n",
       "    </tr>\n",
       "    <tr>\n",
       "      <th>month</th>\n",
       "      <th></th>\n",
       "    </tr>\n",
       "  </thead>\n",
       "  <tbody>\n",
       "    <tr>\n",
       "      <th>1</th>\n",
       "      <td>519519.19</td>\n",
       "    </tr>\n",
       "    <tr>\n",
       "      <th>2</th>\n",
       "      <td>192258.49</td>\n",
       "    </tr>\n",
       "    <tr>\n",
       "      <th>3</th>\n",
       "      <td>254135.11</td>\n",
       "    </tr>\n",
       "    <tr>\n",
       "      <th>4</th>\n",
       "      <td>239030.58</td>\n",
       "    </tr>\n",
       "    <tr>\n",
       "      <th>5</th>\n",
       "      <td>239293.32</td>\n",
       "    </tr>\n",
       "    <tr>\n",
       "      <th>6</th>\n",
       "      <td>268699.14</td>\n",
       "    </tr>\n",
       "    <tr>\n",
       "      <th>7</th>\n",
       "      <td>262807.81</td>\n",
       "    </tr>\n",
       "    <tr>\n",
       "      <th>8</th>\n",
       "      <td>256999.10</td>\n",
       "    </tr>\n",
       "    <tr>\n",
       "      <th>9</th>\n",
       "      <td>236158.90</td>\n",
       "    </tr>\n",
       "  </tbody>\n",
       "</table>\n",
       "</div>"
      ],
      "text/plain": [
       "       <Deposit Amount>\n",
       "month                  \n",
       "1             519519.19\n",
       "2             192258.49\n",
       "3             254135.11\n",
       "4             239030.58\n",
       "5             239293.32\n",
       "6             268699.14\n",
       "7             262807.81\n",
       "8             256999.10\n",
       "9             236158.90"
      ]
     },
     "execution_count": 269,
     "metadata": {},
     "output_type": "execute_result"
    }
   ],
   "source": [
    "all_data.groupby('month').sum()"
   ]
  },
  {
   "cell_type": "markdown",
   "metadata": {},
   "source": [
    "### Using Graph to demonstrate the data\n"
   ]
  },
  {
   "cell_type": "code",
   "execution_count": 270,
   "metadata": {},
   "outputs": [],
   "source": [
    "results = all_data.groupby('month').sum()"
   ]
  },
  {
   "cell_type": "code",
   "execution_count": 271,
   "metadata": {},
   "outputs": [
    {
     "data": {
      "image/png": "[encoded data removed]",
      "text/plain": [
       "<Figure size 432x288 with 1 Axes>"
      ]
     },
     "metadata": {
      "needs_background": "light"
     },
     "output_type": "display_data"
    }
   ],
   "source": [
    "import matplotlib.pyplot as plt  # importing pyplot module from matplotlib package \n",
    "months = range(1,10)\n",
    "plt.bar(months, results['<Deposit Amount>'])\n",
    "plt.ylabel ('Deposit in USD ($)')\n",
    "plt.xlabel ('Months')\n",
    "plt.grid(True)\n",
    "plt.show()"
   ]
  },
  {
   "cell_type": "code",
   "execution_count": null,
   "metadata": {},
   "outputs": [],
   "source": []
  }
 ],
 "metadata": {
  "kernelspec": {
   "display_name": "Python 3",
   "language": "python",
   "name": "python3"
  },
  "language_info": {
   "codemirror_mode": {
    "name": "ipython",
    "version": 3
   },
   "file_extension": ".py",
   "mimetype": "text/x-python",
   "name": "python",
   "nbconvert_exporter": "python",
   "pygments_lexer": "ipython3",
   "version": "3.8.3"
  }
 },
 "nbformat": 4,
 "nbformat_minor": 4
}
